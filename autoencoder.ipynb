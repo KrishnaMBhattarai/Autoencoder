{
  "nbformat": 4,
  "nbformat_minor": 0,
  "metadata": {
    "colab": {
      "provenance": [],
      "toc_visible": true
    },
    "kernelspec": {
      "name": "python3",
      "display_name": "Python 3"
    },
    "language_info": {
      "name": "python"
    }
  },
  "cells": [
    {
      "cell_type": "code",
      "execution_count": 61,
      "metadata": {
        "id": "LJvXqSECTBlf"
      },
      "outputs": [],
      "source": [
        "import torch\n",
        "import torch.nn as nn\n",
        "import torch.optim as optim\n",
        "import matplotlib.pyplot as plt\n",
        "import numpy as np\n",
        "from torchvision import datasets, transforms\n",
        "from torch.utils.data import DataLoader\n",
        "\n",
        "\n",
        "class Autoencoder(nn.Module):\n",
        "    def __init__(self, latent_dim=64):\n",
        "        super(Autoencoder, self).__init__()\n",
        "        self.latent_dim = latent_dim\n",
        "\n",
        "        # Encoder\n",
        "        self.encoder = nn.Sequential(\n",
        "            nn.Flatten(),                # Flatten the input, so in this example an image of (1x28x28) to a 1D vector of size 784\n",
        "            nn.Linear(784, latent_dim),  # A fully connected (dense) layer that maps the 784 vector input to latent_dim (default is 64)\n",
        "            nn.ReLU()                    # ReLU Activation function for non-linearity. It activates only positive values and sets negative values to 0\n",
        "        )\n",
        "\n",
        "        # Decoder\n",
        "        self.decoder = nn.Sequential(\n",
        "            nn.Linear(latent_dim, 784),  # A fully connected (dense) layer that maps the latent representation (default 64) to 784 (flattened image)\n",
        "            nn.Sigmoid(),                # Sigmoid activation function so that output values are squashed between 0 and 1\n",
        "            nn.Unflatten(1, (1, 28, 28)) # Reshape the output into a 1x28x28 image\n",
        "        )\n",
        "\n",
        "    def forward(self, x):\n",
        "        encoded = self.encoder(x)        # Pass the input through the encoder\n",
        "        decoded = self.decoder(encoded)  # Pass the encoded representation through the decoder\n",
        "        return decoded                   # return the reconstructed output\n",
        "\n",
        "\n",
        "# Training function\n",
        "def train(model, train_loader, criterion, optimizer, device):\n",
        "    model.train()\n",
        "    total_loss = 0\n",
        "\n",
        "    for batch_features, _ in train_loader:\n",
        "        # Move batch to device\n",
        "        batch_features = batch_features.to(device)\n",
        "\n",
        "        # Reset gradients\n",
        "        optimizer.zero_grad()\n",
        "\n",
        "        # Compute reconstructions\n",
        "        outputs = model(batch_features)\n",
        "\n",
        "        # Compute training reconstruction loss\n",
        "        loss = criterion(outputs, batch_features)\n",
        "\n",
        "        # Compute gradients\n",
        "        loss.backward()\n",
        "\n",
        "        # Adjust model weights\n",
        "        optimizer.step()\n",
        "\n",
        "        total_loss += loss.item()\n",
        "\n",
        "    return total_loss / len(train_loader)"
      ]
    },
    {
      "cell_type": "code",
      "source": [
        "# Set random seed for reproducibility\n",
        "torch.manual_seed(42)\n",
        "\n",
        "# Load Fashion MNIST dataset using torchvision\n",
        "transform = transforms.Compose([\n",
        "    transforms.ToTensor(),\n",
        "])\n",
        "\n",
        "train_dataset = datasets.MNIST(\n",
        "    root='./data',\n",
        "    train=True,\n",
        "    download=True,\n",
        "    transform=transform\n",
        ")\n",
        "test_dataset = datasets.MNIST(\n",
        "    root='./data',\n",
        "    train=False,\n",
        "    download=True,\n",
        "    transform=transform\n",
        ")\n",
        "\n",
        "\n",
        "# Create DataLoaders\n",
        "_train_loader = DataLoader(train_dataset, batch_size=64, shuffle=True)\n",
        "_test_loader = DataLoader(test_dataset, batch_size=64, shuffle=False)"
      ],
      "metadata": {
        "id": "cz0g7WokTDlz"
      },
      "execution_count": 62,
      "outputs": []
    },
    {
      "cell_type": "code",
      "source": [
        "# Initialize the model\n",
        "_device = torch.device(\"cuda\" if torch.cuda.is_available() else \"cpu\")\n",
        "_model = Autoencoder().to(_device)\n",
        "\n",
        "# Loss and optimizer\n",
        "_criterion = nn.MSELoss()\n",
        "_optimizer = optim.Adam(_model.parameters() )\n",
        "\n"
      ],
      "metadata": {
        "id": "SFKZ7YdoVoAR"
      },
      "execution_count": 63,
      "outputs": []
    },
    {
      "cell_type": "code",
      "source": [
        "\n",
        "# Training loop\n",
        "num_epochs = 10\n",
        "for epoch in range(num_epochs):\n",
        "    train_loss = train(_model, _train_loader, _criterion, _optimizer, _device)\n",
        "    print(f'Epoch [{epoch + 1}/{num_epochs}], Loss: {train_loss:.4f}')\n"
      ],
      "metadata": {
        "colab": {
          "base_uri": "https://localhost:8080/"
        },
        "id": "f-MAjMumTJkK",
        "outputId": "1ae0261d-d361-49b1-f928-edc861c69b48"
      },
      "execution_count": 64,
      "outputs": [
        {
          "output_type": "stream",
          "name": "stdout",
          "text": [
            "Epoch [1/10], Loss: 0.0378\n",
            "Epoch [2/10], Loss: 0.0136\n",
            "Epoch [3/10], Loss: 0.0090\n",
            "Epoch [4/10], Loss: 0.0076\n",
            "Epoch [5/10], Loss: 0.0070\n",
            "Epoch [6/10], Loss: 0.0067\n",
            "Epoch [7/10], Loss: 0.0066\n",
            "Epoch [8/10], Loss: 0.0065\n",
            "Epoch [9/10], Loss: 0.0064\n",
            "Epoch [10/10], Loss: 0.0064\n"
          ]
        }
      ]
    },
    {
      "cell_type": "code",
      "source": [
        "# Visualize results\n",
        "_model.eval()\n",
        "with torch.no_grad():\n",
        "    # Get first batch from test loader\n",
        "    test_images, _ = next(iter(_test_loader))\n",
        "    test_images = test_images.to(_device)\n",
        "\n",
        "    # Reconstruct images\n",
        "    reconstructed_images = _model(test_images)\n",
        "\n",
        "    # Prepare images for plotting\n",
        "    test_images = test_images.cpu()\n",
        "    reconstructed_images = reconstructed_images.cpu()\n",
        "\n",
        "    import random\n",
        "    # Plot original and reconstructed images\n",
        "\n",
        "    n = 9\n",
        "    plt.figure(figsize=(20, 4))\n",
        "    for i in range(n):\n",
        "        # Display original\n",
        "        ax = plt.subplot(2, n, i + 1)\n",
        "        plt.imshow(test_images[i].squeeze().numpy(), cmap='gray')\n",
        "        plt.title(\"original\")\n",
        "        ax.get_xaxis().set_visible(False)\n",
        "        ax.get_yaxis().set_visible(False)\n",
        "\n",
        "        # Display reconstruction\n",
        "        ax = plt.subplot(2, n, i + 1 + n)\n",
        "        plt.imshow(reconstructed_images[i].squeeze().numpy(), cmap='gray')\n",
        "        plt.title(\"reconstructed\")\n",
        "        ax.get_xaxis().set_visible(False)\n",
        "        ax.get_yaxis().set_visible(False)\n",
        "\n",
        "    plt.show()"
      ],
      "metadata": {
        "colab": {
          "base_uri": "https://localhost:8080/",
          "height": 222
        },
        "id": "mmcoQX-dTaEt",
        "outputId": "53901435-907b-4b88-a5a5-f71b470b833b"
      },
      "execution_count": 84,
      "outputs": [
        {
          "output_type": "display_data",
          "data": {
            "text/plain": [
              "<Figure size 2000x400 with 18 Axes>"
            ],
            "image/png": "[encoded data removed]"
          },
          "metadata": {}
        }
      ]
    },
    {
      "cell_type": "code",
      "source": [
        "torch.save(_model.state_dict(), \"autoencoder.pt\")"
      ],
      "metadata": {
        "id": "vlsdQRuYjQaR"
      },
      "execution_count": 56,
      "outputs": []
    }
  ]
}